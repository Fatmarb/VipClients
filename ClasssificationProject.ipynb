{
 "cells": [
  {
   "cell_type": "raw",
   "id": "5accae05",
   "metadata": {},
   "source": []
  },
  {
   "cell_type": "raw",
   "id": "03a3d587-c610-4c88-8b98-ccabab0b2931",
   "metadata": {},
   "source": [
    "Objectif:\n",
    "Prédire si un client est un gros dépensier pour identifier les clients VIP."
   ]
  },
  {
   "cell_type": "code",
   "execution_count": 43,
   "id": "6a88db97-b01b-48aa-85c6-ad9e415b86f3",
   "metadata": {},
   "outputs": [],
   "source": [
    "import pandas as pd\n",
    "import numpy as np\n",
    "import matplotlib.pyplot as plt\n",
    "import seaborn as sns\n",
    "\n",
    "from sklearn.model_selection import train_test_split\n",
    "from sklearn.preprocessing import StandardScaler\n",
    "from sklearn.ensemble import RandomForestClassifier\n",
    "from sklearn.metrics import classification_report, confusion_matrix, accuracy_score"
   ]
  },
  {
   "cell_type": "code",
   "execution_count": 49,
   "id": "57a783b5-aae9-4756-98e3-715d536252d4",
   "metadata": {},
   "outputs": [
    {
     "data": {
      "text/html": [
       "<div>\n",
       "<style scoped>\n",
       "    .dataframe tbody tr th:only-of-type {\n",
       "        vertical-align: middle;\n",
       "    }\n",
       "\n",
       "    .dataframe tbody tr th {\n",
       "        vertical-align: top;\n",
       "    }\n",
       "\n",
       "    .dataframe thead th {\n",
       "        text-align: right;\n",
       "    }\n",
       "</style>\n",
       "<table border=\"1\" class=\"dataframe\">\n",
       "  <thead>\n",
       "    <tr style=\"text-align: right;\">\n",
       "      <th></th>\n",
       "      <th>Recency</th>\n",
       "      <th>MntWines</th>\n",
       "      <th>MntFruits</th>\n",
       "      <th>MntMeatProducts</th>\n",
       "      <th>MntFishProducts</th>\n",
       "      <th>MntSweetProducts</th>\n",
       "      <th>MntGoldProds</th>\n",
       "      <th>NumDealsPurchases</th>\n",
       "      <th>NumWebPurchases</th>\n",
       "      <th>NumCatalogPurchases</th>\n",
       "      <th>NumStorePurchases</th>\n",
       "      <th>NumWebVisitsMonth</th>\n",
       "    </tr>\n",
       "  </thead>\n",
       "  <tbody>\n",
       "    <tr>\n",
       "      <th>0</th>\n",
       "      <td>58</td>\n",
       "      <td>635</td>\n",
       "      <td>88</td>\n",
       "      <td>546</td>\n",
       "      <td>172</td>\n",
       "      <td>88</td>\n",
       "      <td>88</td>\n",
       "      <td>3</td>\n",
       "      <td>8</td>\n",
       "      <td>10</td>\n",
       "      <td>4</td>\n",
       "      <td>7</td>\n",
       "    </tr>\n",
       "    <tr>\n",
       "      <th>1</th>\n",
       "      <td>38</td>\n",
       "      <td>11</td>\n",
       "      <td>1</td>\n",
       "      <td>6</td>\n",
       "      <td>2</td>\n",
       "      <td>1</td>\n",
       "      <td>6</td>\n",
       "      <td>2</td>\n",
       "      <td>1</td>\n",
       "      <td>1</td>\n",
       "      <td>2</td>\n",
       "      <td>5</td>\n",
       "    </tr>\n",
       "    <tr>\n",
       "      <th>2</th>\n",
       "      <td>26</td>\n",
       "      <td>426</td>\n",
       "      <td>49</td>\n",
       "      <td>127</td>\n",
       "      <td>111</td>\n",
       "      <td>21</td>\n",
       "      <td>42</td>\n",
       "      <td>1</td>\n",
       "      <td>8</td>\n",
       "      <td>2</td>\n",
       "      <td>10</td>\n",
       "      <td>4</td>\n",
       "    </tr>\n",
       "    <tr>\n",
       "      <th>3</th>\n",
       "      <td>26</td>\n",
       "      <td>11</td>\n",
       "      <td>4</td>\n",
       "      <td>20</td>\n",
       "      <td>10</td>\n",
       "      <td>3</td>\n",
       "      <td>5</td>\n",
       "      <td>2</td>\n",
       "      <td>2</td>\n",
       "      <td>0</td>\n",
       "      <td>4</td>\n",
       "      <td>6</td>\n",
       "    </tr>\n",
       "    <tr>\n",
       "      <th>4</th>\n",
       "      <td>94</td>\n",
       "      <td>173</td>\n",
       "      <td>43</td>\n",
       "      <td>118</td>\n",
       "      <td>46</td>\n",
       "      <td>27</td>\n",
       "      <td>15</td>\n",
       "      <td>5</td>\n",
       "      <td>5</td>\n",
       "      <td>3</td>\n",
       "      <td>6</td>\n",
       "      <td>5</td>\n",
       "    </tr>\n",
       "  </tbody>\n",
       "</table>\n",
       "</div>"
      ],
      "text/plain": [
       "   Recency  MntWines  MntFruits  MntMeatProducts  MntFishProducts  \\\n",
       "0       58       635         88              546              172   \n",
       "1       38        11          1                6                2   \n",
       "2       26       426         49              127              111   \n",
       "3       26        11          4               20               10   \n",
       "4       94       173         43              118               46   \n",
       "\n",
       "   MntSweetProducts  MntGoldProds  NumDealsPurchases  NumWebPurchases  \\\n",
       "0                88            88                  3                8   \n",
       "1                 1             6                  2                1   \n",
       "2                21            42                  1                8   \n",
       "3                 3             5                  2                2   \n",
       "4                27            15                  5                5   \n",
       "\n",
       "   NumCatalogPurchases  NumStorePurchases  NumWebVisitsMonth  \n",
       "0                   10                  4                  7  \n",
       "1                    1                  2                  5  \n",
       "2                    2                 10                  4  \n",
       "3                    0                  4                  6  \n",
       "4                    3                  6                  5  "
      ]
     },
     "execution_count": 49,
     "metadata": {},
     "output_type": "execute_result"
    }
   ],
   "source": [
    "# Chargement et nettoyage des données\n",
    "df = pd.read_csv(\"marketing_campaign.csv\", sep=\"\\t\")\n",
    "df = df.dropna()\n",
    "\n",
    "# Suppression des colonnes non pertinentes\n",
    "df = df.drop(columns=[\"ID\", \"Dt_Customer\", \"Z_CostContact\", \"Z_Revenue\", ])\n",
    "\n",
    "# Encodage des variables catégorielles\n",
    "df = pd.get_dummies(df, columns=[\"Education\", \"Marital_Status\"], drop_first=True)\n",
    "\n",
    "df = df.drop(columns=['Year_Birth', 'Income', 'Kidhome', 'Teenhome','AcceptedCmp3', 'AcceptedCmp4', 'AcceptedCmp5', 'AcceptedCmp1', 'AcceptedCmp2', 'Complain', 'Response', 'Education_Basic', 'Education_Graduation', 'Education_Master', 'Education_PhD', 'Marital_Status_Alone', 'Marital_Status_Divorced', 'Marital_Status_Married', 'Marital_Status_Single', 'Marital_Status_Together', 'Marital_Status_Widow', 'Marital_Status_YOLO'])\n",
    "\n",
    "df.head()"
   ]
  },
  {
   "cell_type": "markdown",
   "id": "872ac8c5-d520-45de-9682-8a7876923116",
   "metadata": {},
   "source": [
    "* Variable Cible"
   ]
  },
  {
   "cell_type": "code",
   "execution_count": 50,
   "id": "4c763d8c-1b1d-466a-96d8-c0e930dbd6fb",
   "metadata": {},
   "outputs": [
    {
     "name": "stdout",
     "output_type": "stream",
     "text": [
      "HighSpender\n",
      "0    1663\n",
      "1     553\n",
      "Name: count, dtype: int64\n"
     ]
    }
   ],
   "source": [
    "depense_cols = ['MntWines', 'MntFruits', 'MntMeatProducts','MntFishProducts', 'MntSweetProducts', 'MntGoldProds']\n",
    "\n",
    "df['TotalSpending'] = df[depense_cols].sum(axis=1)\n",
    "\n",
    "# Seuil : top 25% des clients par dépenses\n",
    "seuil = df['TotalSpending'].quantile(0.75)\n",
    "df['HighSpender'] = (df['TotalSpending'] > seuil).astype(int)\n",
    "\n",
    "# Vérification\n",
    "print(df['HighSpender'].value_counts())"
   ]
  },
  {
   "cell_type": "code",
   "execution_count": 51,
   "id": "0755b5aa-e9a4-43b1-98e8-ec8495f42449",
   "metadata": {},
   "outputs": [],
   "source": [
    "# Définir X et y\n",
    "y = df[\"HighSpender\"]\n",
    "X = df.drop(columns=[\"HighSpender\", \"TotalSpending\"])"
   ]
  },
  {
   "cell_type": "markdown",
   "id": "2ea25f8c-ada9-4327-9650-88e3d7374d0b",
   "metadata": {},
   "source": [
    "* Split et Standarisation"
   ]
  },
  {
   "cell_type": "code",
   "execution_count": 52,
   "id": "41d0470a-497e-4d83-a702-556e16561f5f",
   "metadata": {},
   "outputs": [
    {
     "name": "stdout",
     "output_type": "stream",
     "text": [
      "['Recency', 'MntWines', 'MntFruits', 'MntMeatProducts', 'MntFishProducts', 'MntSweetProducts', 'MntGoldProds', 'NumDealsPurchases', 'NumWebPurchases', 'NumCatalogPurchases', 'NumStorePurchases', 'NumWebVisitsMonth']\n"
     ]
    }
   ],
   "source": [
    "X_train, X_test, y_train, y_test = train_test_split(\n",
    "    X, y, test_size=0.2, random_state=42, stratify=y )\n",
    "\n",
    "print(X.columns.tolist())\n",
    "scaler = StandardScaler()\n",
    "X_train_scaled = scaler.fit_transform(X_train)\n",
    "X_test_scaled = scaler.transform(X_test)"
   ]
  },
  {
   "cell_type": "markdown",
   "id": "683c4637-5e96-4a2f-962e-f0db45c3ccff",
   "metadata": {},
   "source": [
    "Data Trainig"
   ]
  },
  {
   "cell_type": "markdown",
   "id": "b403178a-96ab-42d7-a847-57f511965de5",
   "metadata": {},
   "source": [
    "* Random Forest"
   ]
  },
  {
   "cell_type": "code",
   "execution_count": 53,
   "id": "3659da69-560e-4060-a225-645232d9ca12",
   "metadata": {},
   "outputs": [
    {
     "name": "stdout",
     "output_type": "stream",
     "text": [
      "Random Forest Accuracy: 0.9774774774774775\n",
      "\n",
      "Classification Report:\n",
      "               precision    recall  f1-score   support\n",
      "\n",
      "           0       0.98      0.99      0.99       333\n",
      "           1       0.96      0.95      0.95       111\n",
      "\n",
      "    accuracy                           0.98       444\n",
      "   macro avg       0.97      0.97      0.97       444\n",
      "weighted avg       0.98      0.98      0.98       444\n",
      "\n"
     ]
    },
    {
     "data": {
      "image/png": "[encoded data removed]",
      "text/plain": [
       "<Figure size 640x480 with 2 Axes>"
      ]
     },
     "metadata": {},
     "output_type": "display_data"
    }
   ],
   "source": [
    "rf_model = RandomForestClassifier(class_weight='balanced', random_state=42)\n",
    "rf_model.fit(X_train_scaled, y_train)\n",
    "y_pred_rf = rf_model.predict(X_test_scaled)\n",
    "\n",
    "print(\"Random Forest Accuracy:\", accuracy_score(y_test, y_pred_rf))\n",
    "print(\"\\nClassification Report:\\n\", classification_report(y_test, y_pred_rf))\n",
    "\n",
    "sns.heatmap(confusion_matrix(y_test, y_pred_rf), annot=True, fmt='d', cmap='Blues')\n",
    "plt.title(\"Matrice de confusion - Random Forest\")\n",
    "plt.xlabel(\"Prédiction\")\n",
    "plt.ylabel(\"Vraie valeur\")\n",
    "plt.show()"
   ]
  },
  {
   "cell_type": "markdown",
   "id": "35a81fdf-30e6-4628-a679-0561f2074675",
   "metadata": {},
   "source": [
    "* Logistic Regression"
   ]
  },
  {
   "cell_type": "code",
   "execution_count": 54,
   "id": "ab12042e-d595-4e4b-921a-569a70b96ee1",
   "metadata": {},
   "outputs": [
    {
     "name": "stdout",
     "output_type": "stream",
     "text": [
      "Logistic Regression Accuracy: 0.9797297297297297\n",
      "\n",
      "Classification Report:\n",
      "               precision    recall  f1-score   support\n",
      "\n",
      "           0       1.00      0.97      0.99       333\n",
      "           1       0.93      1.00      0.96       111\n",
      "\n",
      "    accuracy                           0.98       444\n",
      "   macro avg       0.96      0.99      0.97       444\n",
      "weighted avg       0.98      0.98      0.98       444\n",
      "\n"
     ]
    },
    {
     "data": {
      "image/png": "[encoded data removed]",
      "text/plain": [
       "<Figure size 640x480 with 2 Axes>"
      ]
     },
     "metadata": {},
     "output_type": "display_data"
    }
   ],
   "source": [
    "logreg = LogisticRegression(class_weight='balanced', max_iter=1000, random_state=42)\n",
    "logreg.fit(X_train_scaled, y_train)\n",
    "y_pred_logreg = logreg.predict(X_test_scaled)\n",
    "\n",
    "print(\"Logistic Regression Accuracy:\", accuracy_score(y_test, y_pred_logreg))\n",
    "print(\"\\nClassification Report:\\n\", classification_report(y_test, y_pred_logreg))\n",
    "\n",
    "sns.heatmap(confusion_matrix(y_test, y_pred_logreg), annot=True, fmt='d', cmap='Purples')\n",
    "plt.title(\"Matrice de confusion - Logistic Regression\")\n",
    "plt.xlabel(\"Prédiction\")\n",
    "plt.ylabel(\"Vraie valeur\")\n",
    "plt.show()"
   ]
  },
  {
   "cell_type": "markdown",
   "id": "779d7b2e-41fd-4abc-b3f4-2ab1d47b95d1",
   "metadata": {},
   "source": [
    "=> Random Forest est légèrement moins performante et a tendance à sous-classer certains VIP par rapport à LR."
   ]
  },
  {
   "cell_type": "markdown",
   "id": "f4a00d59-27dc-4b32-8e85-e5e13d69b8e9",
   "metadata": {},
   "source": [
    "Sauvegarde du modèle - JobLib"
   ]
  },
  {
   "cell_type": "code",
   "execution_count": 55,
   "id": "219861eb-2a2b-40a3-9748-ff586f46914e",
   "metadata": {},
   "outputs": [
    {
     "data": {
      "text/plain": [
       "['scaler.pkl']"
      ]
     },
     "execution_count": 55,
     "metadata": {},
     "output_type": "execute_result"
    }
   ],
   "source": [
    "import joblib\n",
    "\n",
    "# Sauvegarder le modèle et le scaler\n",
    "joblib.dump(logreg, \"vip_prediction.pkl\")\n",
    "joblib.dump(scaler, \"scaler.pkl\")"
   ]
  },
  {
   "cell_type": "code",
   "execution_count": null,
   "id": "542b7589-4758-4dd9-8a16-71d22005e65a",
   "metadata": {},
   "outputs": [],
   "source": []
  }
 ],
 "metadata": {
  "kernelspec": {
   "display_name": "Python [conda env:base] *",
   "language": "python",
   "name": "conda-base-py"
  },
  "language_info": {
   "codemirror_mode": {
    "name": "ipython",
    "version": 3
   },
   "file_extension": ".py",
   "mimetype": "text/x-python",
   "name": "python",
   "nbconvert_exporter": "python",
   "pygments_lexer": "ipython3",
   "version": "3.13.5"
  }
 },
 "nbformat": 4,
 "nbformat_minor": 5
}
